{
 "cells": [
  {
   "cell_type": "markdown",
   "id": "3Xg_RQfnafXz",
   "metadata": {
    "id": "3Xg_RQfnafXz"
   },
   "source": [
    "# ¡Llena ese carrito!"
   ]
  },
  {
   "cell_type": "markdown",
   "id": "mhIvmmkW414q",
   "metadata": {
    "id": "mhIvmmkW414q"
   },
   "source": [
    "# Introducción\n",
    "\n",
    "Instacart es una plataforma de entregas de comestibles donde la clientela puede registrar un pedido y hacer que se lo entreguen, similar a Uber Eats y Door Dash.\n",
    "El conjunto de datos que te hemos proporcionado tiene modificaciones del original. Redujimos el tamaño del conjunto para que tus cálculos se hicieran más rápido e introdujimos valores ausentes y duplicados. Tuvimos cuidado de conservar las distribuciones de los datos originales cuando hicimos los cambios.\n",
    "\n",
    "Debes completar tres pasos. Para cada uno de ellos, escribe una breve introducción que refleje con claridad cómo pretendes resolver cada paso, y escribe párrafos explicatorios que justifiquen tus decisiones al tiempo que avanzas en tu solución.  También escribe una conclusión que resuma tus hallazgos y elecciones.\n"
   ]
  },
  {
   "cell_type": "markdown",
   "id": "3MbyzpOQZ5Or",
   "metadata": {
    "id": "3MbyzpOQZ5Or"
   },
   "source": [
    "## Diccionario de datos\n",
    "\n",
    "Hay cinco tablas en el conjunto de datos, y tendrás que usarlas todas para hacer el preprocesamiento de datos y el análisis exploratorio de datos. A continuación se muestra un diccionario de datos que enumera las columnas de cada tabla y describe los datos que contienen.\n",
    "\n",
    "- `instacart_orders.csv`: cada fila corresponde a un pedido en la aplicación Instacart.\n",
    "    - `'order_id'`: número de ID que identifica de manera única cada pedido.\n",
    "    - `'user_id'`: número de ID que identifica de manera única la cuenta de cada cliente.\n",
    "    - `'order_number'`: el número de veces que este cliente ha hecho un pedido.\n",
    "    - `'order_dow'`: día de la semana en que se hizo el pedido (0 si es domingo).\n",
    "    - `'order_hour_of_day'`: hora del día en que se hizo el pedido.\n",
    "    - `'days_since_prior_order'`: número de días transcurridos desde que este cliente hizo su pedido anterior.\n",
    "- `products.csv`: cada fila corresponde a un producto único que pueden comprar los clientes.\n",
    "    - `'product_id'`: número ID que identifica de manera única cada producto.\n",
    "    - `'product_name'`: nombre del producto.\n",
    "    - `'aisle_id'`: número ID que identifica de manera única cada categoría de pasillo de víveres.\n",
    "    - `'department_id'`: número ID que identifica de manera única cada departamento de víveres.\n",
    "- `order_products.csv`: cada fila corresponde a un artículo pedido en un pedido.\n",
    "    - `'order_id'`: número de ID que identifica de manera única cada pedido.\n",
    "    - `'product_id'`: número ID que identifica de manera única cada producto.\n",
    "    - `'add_to_cart_order'`: el orden secuencial en el que se añadió cada artículo en el carrito.\n",
    "    - `'reordered'`: 0 si el cliente nunca ha pedido este producto antes, 1 si lo ha pedido.\n",
    "- `aisles.csv`\n",
    "    - `'aisle_id'`: número ID que identifica de manera única cada categoría de pasillo de víveres.\n",
    "    - `'aisle'`: nombre del pasillo.\n",
    "- `departments.csv`\n",
    "    - `'department_id'`: número ID que identifica de manera única cada departamento de víveres.\n",
    "    - `'department'`: nombre del departamento."
   ]
  },
  {
   "cell_type": "markdown",
   "id": "n3Ha_cNSZ8lK",
   "metadata": {
    "id": "n3Ha_cNSZ8lK"
   },
   "source": [
    "# Paso 1. Descripción de los datos\n",
    "\n",
    "Lee los archivos de datos (`/datasets/instacart_orders.csv`, `/datasets/products.csv`, `/datasets/aisles.csv`, `/datasets/departments.csv` y `/datasets/order_products.csv`) con `pd.read_csv()` usando los parámetros adecuados para leer los datos correctamente. Verifica la información para cada DataFrame creado.\n"
   ]
  },
  {
   "cell_type": "markdown",
   "id": "OmlQPLlyaAfR",
   "metadata": {
    "id": "OmlQPLlyaAfR"
   },
   "source": [
    "## Plan de solución\n",
    "\n",
    "Escribe aquí tu plan de solución para el Paso 1. Descripción de los datos.\n",
    "\n",
    "Paso 1: Descripción de los Datos\n",
    "Plan de Solución:\n",
    "Lectura de Archivos:\n",
    "\n",
    "Utilizar pd.read_csv() para leer cada archivo de datos (instacart_orders.csv, products.csv, aisles.csv, departments.csv, order_products.csv) con los parámetros adecuados para garantizar una lectura correcta de los datos.\n",
    "Verificación de la Información:\n",
    "\n",
    "Para cada DataFrame creado, verificar la información básica utilizando métodos como head(), info(), y describe() para comprender la estructura y los tipos de datos presentes.\n",
    "Asegurarse de que las columnas de identificación (ID) sean de tipo numérico y que los datos estén correctamente formateados.\n",
    "Identificación de Posibles Problemas:\n",
    "\n",
    "Buscar valores nulos, duplicados o inconsistencias en los datos.\n",
    "Tratar los problemas identificados según sea necesario, como completar los valores faltantes o eliminar los duplicados.\n",
    "Resumen de los Datos:\n",
    "\n",
    "Realizar un resumen breve de cada DataFrame, destacando la información clave y cualquier problema encontrado durante la exploración inicial de los datos.\n",
    "\n",
    "\n",
    "\n"
   ]
  },
  {
   "cell_type": "code",
   "execution_count": 28,
   "id": "fbf1adab",
   "metadata": {
    "id": "fbf1adab"
   },
   "outputs": [],
   "source": [
    "# importar librerías\n",
    "import pandas as pd"
   ]
  },
  {
   "cell_type": "code",
   "execution_count": 29,
   "id": "ad36396d",
   "metadata": {
    "id": "ad36396d"
   },
   "outputs": [],
   "source": [
    "# leer conjuntos de datos en los DataFrames\n",
    "df_orders = pd.read_csv('/datasets/instacart_orders.csv')\n",
    "df_products = pd.read_csv('/datasets/products.csv')\n",
    "df_order_products = pd.read_csv('/datasets/order_products.csv')\n",
    "df_aisles = pd.read_csv('/datasets/aisles.csv')\n",
    "df_departments = pd.read_csv('/datasets/departments.csv')"
   ]
  },
  {
   "cell_type": "code",
   "execution_count": 30,
   "id": "ad6a1efa",
   "metadata": {
    "id": "ad6a1efa",
    "scrolled": true
   },
   "outputs": [
    {
     "name": "stdout",
     "output_type": "stream",
     "text": [
      "  order_id;user_id;order_number;order_dow;order_hour_of_day;days_since_prior_order\n",
      "0                        1515936;183418;11;6;13;30.0                              \n",
      "1                          1690866;163593;5;5;12;9.0                              \n",
      "2                           1454967;39980;4;5;19;2.0                              \n",
      "3                         1768857;82516;56;0;20;10.0                              \n",
      "4                         3007858;196724;2;4;12;17.0                              \n",
      "<class 'pandas.core.frame.DataFrame'>\n",
      "RangeIndex: 478967 entries, 0 to 478966\n",
      "Data columns (total 1 columns):\n",
      " #   Column                                                                            Non-Null Count   Dtype \n",
      "---  ------                                                                            --------------   ----- \n",
      " 0   order_id;user_id;order_number;order_dow;order_hour_of_day;days_since_prior_order  478967 non-null  object\n",
      "dtypes: object(1)\n",
      "memory usage: 3.7+ MB\n"
     ]
    }
   ],
   "source": [
    "# mostrar información del DataFrame\n",
    "print(df_orders.head())\n",
    "df_orders.info()"
   ]
  },
  {
   "cell_type": "code",
   "execution_count": 31,
   "id": "5130e05e",
   "metadata": {
    "id": "5130e05e"
   },
   "outputs": [
    {
     "name": "stdout",
     "output_type": "stream",
     "text": [
      "          product_id;product_name;aisle_id;department_id\n",
      "0                     1;Chocolate Sandwich Cookies;61;19\n",
      "1                              2;All-Seasons Salt;104;13\n",
      "2            3;Robust Golden Unsweetened Oolong Tea;94;7\n",
      "3      4;Smart Ones Classic Favorites Mini Rigatoni W...\n",
      "4                       5;Green Chile Anytime Sauce;5;13\n",
      "...                                                  ...\n",
      "49689           49690;HIGH PERFORMANCE ENERGY DRINK;64;7\n",
      "49690         49691;ORIGINAL PANCAKE & WAFFLE MIX;130;14\n",
      "49691  49692;ORGANIC INSTANT OATMEAL LIGHT MAPLE BROW...\n",
      "49692                49693;SPRING WATER BODY WASH;127;11\n",
      "49693                 49694;BURRITO- STEAK & CHEESE;38;1\n",
      "\n",
      "[49694 rows x 1 columns]\n",
      "<class 'pandas.core.frame.DataFrame'>\n",
      "RangeIndex: 49694 entries, 0 to 49693\n",
      "Data columns (total 1 columns):\n",
      " #   Column                                          Non-Null Count  Dtype \n",
      "---  ------                                          --------------  ----- \n",
      " 0   product_id;product_name;aisle_id;department_id  49694 non-null  object\n",
      "dtypes: object(1)\n",
      "memory usage: 388.4+ KB\n"
     ]
    }
   ],
   "source": [
    "# mostrar información del DataFrame\n",
    "print(df_products)\n",
    "df_products.info()"
   ]
  },
  {
   "cell_type": "code",
   "execution_count": 32,
   "id": "d8370c05",
   "metadata": {
    "id": "d8370c05"
   },
   "outputs": [
    {
     "name": "stdout",
     "output_type": "stream",
     "text": [
      "        order_id;product_id;add_to_cart_order;reordered\n",
      "0                                  2141543;11440;17.0;0\n",
      "1                                     567889;1560;1.0;1\n",
      "2                                   2261212;26683;1.0;1\n",
      "3                                    491251;8670;35.0;1\n",
      "4                                    2571142;1940;5.0;1\n",
      "...                                                 ...\n",
      "4545002                             577211;15290;12.0;1\n",
      "4545003                             1219554;21914;9.0;0\n",
      "4545004                              692640;47766;4.0;1\n",
      "4545005                                319435;691;8.0;1\n",
      "4545006                             1398151;28733;9.0;0\n",
      "\n",
      "[4545007 rows x 1 columns]\n",
      "<class 'pandas.core.frame.DataFrame'>\n",
      "RangeIndex: 4545007 entries, 0 to 4545006\n",
      "Data columns (total 1 columns):\n",
      " #   Column                                           Dtype \n",
      "---  ------                                           ----- \n",
      " 0   order_id;product_id;add_to_cart_order;reordered  object\n",
      "dtypes: object(1)\n",
      "memory usage: 34.7+ MB\n"
     ]
    }
   ],
   "source": [
    "# mostrar información del DataFrame\n",
    "print(df_order_products)\n",
    "df_order_products.info()"
   ]
  },
  {
   "cell_type": "code",
   "execution_count": 33,
   "id": "59e2090f",
   "metadata": {
    "id": "59e2090f"
   },
   "outputs": [
    {
     "name": "stdout",
     "output_type": "stream",
     "text": [
      "                     aisle_id;aisle\n",
      "0           1;prepared soups salads\n",
      "1               2;specialty cheeses\n",
      "2             3;energy granola bars\n",
      "3                   4;instant foods\n",
      "4      5;marinades meat preparation\n",
      "..                              ...\n",
      "129    130;hot cereal pancake mixes\n",
      "130                   131;dry pasta\n",
      "131                      132;beauty\n",
      "132  133;muscles joints pain relief\n",
      "133  134;specialty wines champagnes\n",
      "\n",
      "[134 rows x 1 columns]\n",
      "<class 'pandas.core.frame.DataFrame'>\n",
      "RangeIndex: 134 entries, 0 to 133\n",
      "Data columns (total 1 columns):\n",
      " #   Column          Non-Null Count  Dtype \n",
      "---  ------          --------------  ----- \n",
      " 0   aisle_id;aisle  134 non-null    object\n",
      "dtypes: object(1)\n",
      "memory usage: 1.2+ KB\n"
     ]
    }
   ],
   "source": [
    "# mostrar información del DataFrame\n",
    "print(df_aisles)\n",
    "df_aisles.info()"
   ]
  },
  {
   "cell_type": "code",
   "execution_count": 34,
   "id": "6fc81694",
   "metadata": {
    "id": "6fc81694"
   },
   "outputs": [
    {
     "name": "stdout",
     "output_type": "stream",
     "text": [
      "   department_id;department\n",
      "0                  1;frozen\n",
      "1                   2;other\n",
      "2                  3;bakery\n",
      "3                 4;produce\n",
      "4                 5;alcohol\n",
      "5           6;international\n",
      "6               7;beverages\n",
      "7                    8;pets\n",
      "8         9;dry goods pasta\n",
      "9                   10;bulk\n",
      "10         11;personal care\n",
      "11          12;meat seafood\n",
      "12                13;pantry\n",
      "13             14;breakfast\n",
      "14          15;canned goods\n",
      "15            16;dairy eggs\n",
      "16             17;household\n",
      "17                18;babies\n",
      "18                19;snacks\n",
      "19                  20;deli\n",
      "20               21;missing\n",
      "<class 'pandas.core.frame.DataFrame'>\n",
      "RangeIndex: 21 entries, 0 to 20\n",
      "Data columns (total 1 columns):\n",
      " #   Column                    Non-Null Count  Dtype \n",
      "---  ------                    --------------  ----- \n",
      " 0   department_id;department  21 non-null     object\n",
      "dtypes: object(1)\n",
      "memory usage: 296.0+ bytes\n"
     ]
    }
   ],
   "source": [
    "# mostrar información del DataFrame\n",
    "print(df_departments)\n",
    "df_departments.info()"
   ]
  },
  {
   "cell_type": "markdown",
   "id": "t75BD19oaR5f",
   "metadata": {
    "id": "t75BD19oaR5f"
   },
   "source": [
    "## Conclusiones\n",
    "\n",
    "Escribe aquí tus conclusiones intermedias sobre el Paso 1. Descripción de los datos.\n",
    "El paso 1 proporciona una visión general de los datos y ayuda a entender la estructura y la calidad de los datos antes de comenzar con el análisis exploratorio de datos y el preprocesamiento.\n"
   ]
  },
  {
   "cell_type": "markdown",
   "id": "8RJHqxVmaVsF",
   "metadata": {
    "id": "8RJHqxVmaVsF"
   },
   "source": [
    "# Paso 2. Preprocesamiento de los datos\n",
    "\n",
    "Preprocesa los datos de la siguiente manera:\n",
    "\n",
    "- Verifica y corrige los tipos de datos (por ejemplo, asegúrate de que las columnas de ID sean números enteros).\n",
    "- Identifica y completa los valores ausentes.\n",
    "- Identifica y elimina los valores duplicados.\n",
    "\n",
    "Asegúrate de explicar qué tipos de valores ausentes y duplicados encontraste, cómo los completaste o eliminaste y por qué usaste esos métodos. ¿Por qué crees que estos valores ausentes y duplicados pueden haber estado presentes en el conjunto de datos?"
   ]
  },
  {
   "cell_type": "markdown",
   "id": "p6poABZQaZYb",
   "metadata": {
    "id": "p6poABZQaZYb"
   },
   "source": [
    "## Plan de solución\n",
    "\n",
    "Escribe aquí tu plan para el Paso 2. Preprocesamiento de los datos.\n",
    "Verificar y corregir los tipos de datos para asegurarnos de que las columnas de ID sean números enteros si es necesario.\n",
    "Identificar y completar los valores ausentes utilizando métodos como la imputación o la eliminación, según corresponda.\n",
    "Identificar y eliminar los valores duplicados para garantizar la integridad de los datos."
   ]
  },
  {
   "cell_type": "markdown",
   "id": "07357848-dc64-4156-9cc3-01ff4365226d",
   "metadata": {
    "id": "07357848-dc64-4156-9cc3-01ff4365226d"
   },
   "source": [
    "## Encuentra y elimina los valores duplicados (y describe cómo tomaste tus decisiones)."
   ]
  },
  {
   "cell_type": "markdown",
   "id": "f179f0a9",
   "metadata": {
    "id": "f179f0a9"
   },
   "source": [
    "### `orders` data frame"
   ]
  },
  {
   "cell_type": "code",
   "execution_count": 35,
   "id": "b99297a5-405a-463d-8535-9adc3da4ad74",
   "metadata": {
    "id": "b99297a5-405a-463d-8535-9adc3da4ad74"
   },
   "outputs": [
    {
     "name": "stdout",
     "output_type": "stream",
     "text": [
      "True\n",
      "Valores únicos en la columna 'order_id;user_id;order_number;order_dow;order_hour_of_day;days_since_prior_order': 478952\n"
     ]
    }
   ],
   "source": [
    "# Revisa si hay pedidos duplicados\n",
    "duplicates = df_orders.duplicated()\n",
    "print(duplicates.any())\n",
    "for column in df_orders.columns:\n",
    "    unique_values = df_orders[column].nunique()\n",
    "    print(f\"Valores únicos en la columna '{column}': {unique_values}\")\n"
   ]
  },
  {
   "cell_type": "markdown",
   "id": "PEkwUX_gvt5A",
   "metadata": {
    "id": "PEkwUX_gvt5A"
   },
   "source": [
    "¿Tienes líneas duplicadas? Si sí, ¿qué tienen en común?\n",
    "Sí, parece que hay líneas duplicadas en el DataFrame de pedidos (df_orders). Las líneas duplicadas tienen en común los mismos valores en todas las columnas del DataFrame."
   ]
  },
  {
   "cell_type": "code",
   "execution_count": 36,
   "id": "0d44de5d",
   "metadata": {
    "id": "0d44de5d"
   },
   "outputs": [
    {
     "name": "stdout",
     "output_type": "stream",
     "text": [
      "        order_id  user_id  order_number  order_dow  order_hour_of_day  \\\n",
      "4838     2766110   162084            41          3                  2   \n",
      "5156     2190225   138285            18          3                  2   \n",
      "15506     553049    58599            13          3                  2   \n",
      "18420     382357   120200            19          3                  2   \n",
      "24691     690242    77357             2          3                  2   \n",
      "...          ...      ...           ...        ...                ...   \n",
      "457013   3384021    14881             6          3                  2   \n",
      "458816    910166   164782            18          3                  2   \n",
      "459635   1680532   106435             6          3                  2   \n",
      "468324    222962    54979            59          3                  2   \n",
      "477526   2592344    46860            38          3                  2   \n",
      "\n",
      "        days_since_prior_order  \n",
      "4838                      16.0  \n",
      "5156                      11.0  \n",
      "15506                      7.0  \n",
      "18420                     11.0  \n",
      "24691                      9.0  \n",
      "...                        ...  \n",
      "457013                    30.0  \n",
      "458816                     4.0  \n",
      "459635                    21.0  \n",
      "468324                     3.0  \n",
      "477526                     3.0  \n",
      "\n",
      "[121 rows x 6 columns]\n"
     ]
    }
   ],
   "source": [
    "# Basándote en tus hallazgos,\n",
    "# Verifica todos los pedidos que se hicieron el miércoles a las 2:00 a.m.\n",
    "df_orders = pd.read_csv('/datasets/instacart_orders.csv', sep=';')\n",
    "wednesday_2am_orders = df_orders[(df_orders['order_dow'] == 3) & (df_orders['order_hour_of_day'] == 2)]\n",
    "print(wednesday_2am_orders)\n"
   ]
  },
  {
   "cell_type": "markdown",
   "id": "vu2OWyoqwOx5",
   "metadata": {
    "id": "vu2OWyoqwOx5"
   },
   "source": [
    "¿Qué sugiere este resultado?\n",
    "Este resultado sugiere que hay un total de 121 pedidos que se realizaron específicamente los miércoles a las 2:00 a.m. en el conjunto de datos. Esto podría ser interesante para analizar los hábitos de compra de los usuarios en ese momento específico del día. "
   ]
  },
  {
   "cell_type": "code",
   "execution_count": 37,
   "id": "480563c7",
   "metadata": {
    "id": "480563c7"
   },
   "outputs": [],
   "source": [
    "# Elimina los pedidos duplicados\n",
    "df_orders.drop_duplicates(inplace=True)"
   ]
  },
  {
   "cell_type": "code",
   "execution_count": 38,
   "id": "0b2396a2",
   "metadata": {
    "id": "0b2396a2"
   },
   "outputs": [
    {
     "name": "stdout",
     "output_type": "stream",
     "text": [
      "False\n"
     ]
    }
   ],
   "source": [
    "# Vuelve a verificar si hay filas duplicadas\n",
    "print(df_orders.duplicated().any())"
   ]
  },
  {
   "cell_type": "code",
   "execution_count": 39,
   "id": "f6113ef1",
   "metadata": {
    "id": "f6113ef1"
   },
   "outputs": [
    {
     "name": "stdout",
     "output_type": "stream",
     "text": [
      "False\n"
     ]
    }
   ],
   "source": [
    "# Vuelve a verificar únicamente si hay IDs duplicados de pedidos\n",
    "print(df_orders['order_id'].duplicated().any())"
   ]
  },
  {
   "cell_type": "markdown",
   "id": "5e8905ae",
   "metadata": {
    "id": "5e8905ae"
   },
   "source": [
    "Describe brevemente tus hallazgos y lo que hiciste con ellos\n",
    "Después de revisar los datos, encontramos duplicaciones en los pedidos. Eliminamos estas duplicaciones utilizando el método drop_duplicates() en el DataFrame df_orders. Verificamos que no hubiera más filas duplicadas ni IDs de pedidos duplicados, asegurando así la integridad de los datos."
   ]
  },
  {
   "cell_type": "markdown",
   "id": "45e6bc46",
   "metadata": {
    "id": "45e6bc46"
   },
   "source": [
    "### `products` data frame"
   ]
  },
  {
   "cell_type": "code",
   "execution_count": 40,
   "id": "5f526b5b-8175-46fa-a0fd-441767d50e64",
   "metadata": {
    "id": "5f526b5b-8175-46fa-a0fd-441767d50e64"
   },
   "outputs": [
    {
     "name": "stdout",
     "output_type": "stream",
     "text": [
      "False\n"
     ]
    }
   ],
   "source": [
    "# Verifica si hay filas totalmente duplicadas\n",
    "df_products = pd.read_csv('/datasets/products.csv',sep=';')\n",
    "print(df_products.duplicated().any())"
   ]
  },
  {
   "cell_type": "code",
   "execution_count": 41,
   "id": "88daa4f4",
   "metadata": {
    "id": "88daa4f4"
   },
   "outputs": [
    {
     "name": "stdout",
     "output_type": "stream",
     "text": [
      "True\n"
     ]
    }
   ],
   "source": [
    "# Revisa únicamente si hay ID de departamentos duplicados\n",
    "print(df_products['department_id'].duplicated().any())"
   ]
  },
  {
   "cell_type": "code",
   "execution_count": 42,
   "id": "c773f0bf",
   "metadata": {
    "id": "c773f0bf"
   },
   "outputs": [],
   "source": [
    "# Revisa únicamente si hay nombres duplicados de productos (convierte los nombres a letras mayúsculas para compararlos mejor)\n",
    "df_products['product_name_upper'] = df_products['product_name'].str.upper()"
   ]
  },
  {
   "cell_type": "code",
   "execution_count": 43,
   "id": "01efd02e",
   "metadata": {
    "id": "01efd02e"
   },
   "outputs": [
    {
     "name": "stdout",
     "output_type": "stream",
     "text": [
      "True\n"
     ]
    }
   ],
   "source": [
    "# Revisa si hay nombres duplicados de productos no faltantes\n",
    "print(df_products[df_products['product_name'].notnull()]['product_name_upper'].duplicated().any())"
   ]
  },
  {
   "cell_type": "markdown",
   "id": "9da8d293",
   "metadata": {
    "id": "9da8d293"
   },
   "source": [
    "Describe brevemente tus hallazgos y lo que hiciste con ellos.\n",
    "\n",
    "Los hallazgos indican lo siguiente:\n",
    "\n",
    "No hay filas totalmente duplicadas en el DataFrame de productos.\n",
    "Hay IDs de departamentos duplicados en el DataFrame de productos.\n",
    "Hay nombres de productos duplicados cuando se convierten a letras mayúsculas para una mejor comparación.\n",
    "También hay nombres de productos duplicados entre los productos no faltantes.\n",
    "Para abordar estos hallazgos, se tomaron las siguientes acciones:\n",
    "\n",
    "Se verificó la presencia de filas totalmente duplicadas en el DataFrame de productos.\n",
    "Se verificó la presencia de IDs de departamentos duplicados en el DataFrame de productos.\n",
    "Se creó una nueva columna en el DataFrame de productos que contiene los nombres de productos convertidos a letras mayúsculas para una comparación más efectiva.\n",
    "Se verificó la presencia de nombres de productos duplicados entre los productos no faltantes en el DataFrame."
   ]
  },
  {
   "cell_type": "markdown",
   "id": "60f30db1",
   "metadata": {
    "id": "60f30db1"
   },
   "source": [
    "### `departments` data frame"
   ]
  },
  {
   "cell_type": "code",
   "execution_count": 44,
   "id": "fb410ad4-0fbf-4b80-bb09-23fdea79afe3",
   "metadata": {
    "id": "fb410ad4-0fbf-4b80-bb09-23fdea79afe3"
   },
   "outputs": [
    {
     "name": "stdout",
     "output_type": "stream",
     "text": [
      "False\n"
     ]
    }
   ],
   "source": [
    "# Revisa si hay filas totalmente duplicadas\n",
    "df_departments = pd.read_csv('/datasets/departments.csv', sep=';')\n",
    "print(df_departments.duplicated().any())"
   ]
  },
  {
   "cell_type": "code",
   "execution_count": 45,
   "id": "332b12bb",
   "metadata": {
    "id": "332b12bb"
   },
   "outputs": [
    {
     "name": "stdout",
     "output_type": "stream",
     "text": [
      "False\n"
     ]
    }
   ],
   "source": [
    "# Revisa únicamente si hay IDs duplicadas de productos\n",
    "print(df_departments['department_id'].duplicated().any())"
   ]
  },
  {
   "cell_type": "code",
   "execution_count": 46,
   "id": "528894db",
   "metadata": {},
   "outputs": [
    {
     "name": "stdout",
     "output_type": "stream",
     "text": [
      "False\n"
     ]
    }
   ],
   "source": [
    "print(df_departments['department_id'].duplicated().any())"
   ]
  },
  {
   "cell_type": "markdown",
   "id": "bd30d78e",
   "metadata": {
    "id": "bd30d78e"
   },
   "source": [
    "Describe brevemente tus hallazgos y lo que hiciste con ellos."
   ]
  },
  {
   "cell_type": "markdown",
   "id": "889349c1",
   "metadata": {
    "id": "889349c1"
   },
   "source": [
    "### `aisles` data frame"
   ]
  },
  {
   "cell_type": "code",
   "execution_count": 47,
   "id": "9da89fb9-4679-40f5-ad0d-c34df753a3f8",
   "metadata": {
    "id": "9da89fb9-4679-40f5-ad0d-c34df753a3f8"
   },
   "outputs": [
    {
     "name": "stdout",
     "output_type": "stream",
     "text": [
      "False\n"
     ]
    }
   ],
   "source": [
    "# Revisa si hay filas totalmente duplicadas\n",
    "df_aisles = pd.read_csv('/datasets/aisles.csv', sep=';')\n",
    "print(df_aisles.duplicated().any())\n"
   ]
  },
  {
   "cell_type": "code",
   "execution_count": 48,
   "id": "da7c2822",
   "metadata": {
    "id": "da7c2822"
   },
   "outputs": [
    {
     "name": "stdout",
     "output_type": "stream",
     "text": [
      "False\n"
     ]
    }
   ],
   "source": [
    "# Revisa únicamente si hay IDs duplicadas de productos\n",
    "print(df_aisles['aisle_id'].duplicated().any())"
   ]
  },
  {
   "cell_type": "markdown",
   "id": "ac63826f",
   "metadata": {
    "id": "ac63826f"
   },
   "source": [
    "Describe brevemente tus hallazgos y lo que hiciste con ellos.\n",
    "Los hallazgos son los siguientes:\n",
    "\n",
    "No hay filas totalmente duplicadas en el DataFrame de departamentos.\n",
    "No hay IDs duplicadas de departamentos en el DataFrame de departamentos.\n",
    "Esto sugiere que los datos en el DataFrame de departamentos son únicos y no hay problemas de duplicación que requieran intervención. Por lo tanto, no se tomaron medidas adicionales ya que los datos parecen estar limpios y listos para su uso en análisis posteriores."
   ]
  },
  {
   "cell_type": "markdown",
   "id": "274cd06a",
   "metadata": {
    "id": "274cd06a"
   },
   "source": [
    "### `order_products` data frame"
   ]
  },
  {
   "cell_type": "code",
   "execution_count": 49,
   "id": "52326689-84a8-4b8f-a881-7c68780f62c9",
   "metadata": {
    "id": "52326689-84a8-4b8f-a881-7c68780f62c9"
   },
   "outputs": [
    {
     "name": "stdout",
     "output_type": "stream",
     "text": [
      "False\n"
     ]
    }
   ],
   "source": [
    "# Revisa si hay filas totalmente duplicadas\n",
    "df_order_products = pd.read_csv('/datasets/order_products.csv',sep=';')\n",
    "print(df_order_products.duplicated().any())\n"
   ]
  },
  {
   "cell_type": "code",
   "execution_count": 50,
   "id": "7b861391",
   "metadata": {
    "id": "7b861391"
   },
   "outputs": [
    {
     "name": "stdout",
     "output_type": "stream",
     "text": [
      "Empty DataFrame\n",
      "Columns: [order_id, product_id, add_to_cart_order, reordered]\n",
      "Index: []\n"
     ]
    }
   ],
   "source": [
    "# Vuelve a verificar si hay cualquier otro duplicado engañoso\n",
    "print(df_order_products[df_order_products.duplicated(keep=False)])"
   ]
  },
  {
   "cell_type": "markdown",
   "id": "0b890492",
   "metadata": {
    "id": "0b890492"
   },
   "source": [
    "Describe brevemente tus hallazgos y lo que hiciste con ellos.\n",
    "El código proporcionado verifica si hay filas totalmente duplicadas en el DataFrame de productos del pedido y luego vuelve a verificar si hay cualquier otro duplicado engañoso. Los resultados muestran que no hay filas totalmente duplicadas y que no hay duplicados engañosos en el DataFrame."
   ]
  },
  {
   "cell_type": "markdown",
   "id": "1e46de76",
   "metadata": {
    "id": "1e46de76"
   },
   "source": [
    "## Encuentra y elimina los valores ausentes\n",
    "\n",
    "Al trabajar con valores duplicados, pudimos observar que también nos falta investigar valores ausentes:\n",
    "\n",
    "* La columna `'product_name'` de la tabla products.\n",
    "* La columna `'days_since_prior_order'` de la tabla orders.\n",
    "* La columna `'add_to_cart_order'` de la tabla order_productos."
   ]
  },
  {
   "cell_type": "markdown",
   "id": "c0aebd78",
   "metadata": {
    "id": "c0aebd78"
   },
   "source": [
    "### `products` data frame"
   ]
  },
  {
   "cell_type": "code",
   "execution_count": 51,
   "id": "fe4a8b0f",
   "metadata": {
    "id": "fe4a8b0f"
   },
   "outputs": [
    {
     "name": "stdout",
     "output_type": "stream",
     "text": [
      "       product_id product_name  aisle_id  department_id product_name_upper\n",
      "37             38          NaN       100             21                NaN\n",
      "71             72          NaN       100             21                NaN\n",
      "109           110          NaN       100             21                NaN\n",
      "296           297          NaN       100             21                NaN\n",
      "416           417          NaN       100             21                NaN\n",
      "...           ...          ...       ...            ...                ...\n",
      "49552       49553          NaN       100             21                NaN\n",
      "49574       49575          NaN       100             21                NaN\n",
      "49640       49641          NaN       100             21                NaN\n",
      "49663       49664          NaN       100             21                NaN\n",
      "49668       49669          NaN       100             21                NaN\n",
      "\n",
      "[1258 rows x 5 columns]\n"
     ]
    }
   ],
   "source": [
    "# Encuentra los valores ausentes en la columna 'product_name'\n",
    "missing_product_names = df_products[df_products['product_name'].isnull()]\n",
    "print(missing_product_names)"
   ]
  },
  {
   "cell_type": "markdown",
   "id": "-A6x1AbJhjkp",
   "metadata": {
    "id": "-A6x1AbJhjkp"
   },
   "source": [
    "Describe brevemente cuáles son tus hallazgos.\n",
    "\n",
    "Los hallazgos son los siguientes:\n",
    "\n",
    "Hay 1258 valores ausentes en la columna 'product_name' del DataFrame de productos.\n",
    "Estos valores ausentes están asociados con productos que no tienen nombre especificado en el conjunto de datos.\n",
    "Todos los productos con nombres ausentes parecen estar relacionados con el pasillo con ID 100 y el departamento con ID 21."
   ]
  },
  {
   "cell_type": "code",
   "execution_count": 52,
   "id": "e96167bc",
   "metadata": {
    "id": "e96167bc"
   },
   "outputs": [
    {
     "name": "stdout",
     "output_type": "stream",
     "text": [
      "True\n"
     ]
    }
   ],
   "source": [
    "#  ¿Todos los nombres de productos ausentes están relacionados con el pasillo con ID 100?\n",
    "all_missing_in_aisle_100 = missing_product_names['aisle_id'].eq(100).all()\n",
    "print(all_missing_in_aisle_100)"
   ]
  },
  {
   "cell_type": "markdown",
   "id": "WRpIfXRphpSL",
   "metadata": {
    "id": "WRpIfXRphpSL"
   },
   "source": [
    "Describe brevemente cuáles son tus hallazgos.\n",
    "Los hallazgos son los siguientes:\n",
    "\n",
    "Todos los nombres de productos ausentes están relacionados con el pasillo con ID 100.\n",
    "No hay productos con nombres ausentes que estén asociados con otros pasillos en el conjunto de datos."
   ]
  },
  {
   "cell_type": "code",
   "execution_count": 53,
   "id": "8fd0a541",
   "metadata": {
    "id": "8fd0a541"
   },
   "outputs": [
    {
     "name": "stdout",
     "output_type": "stream",
     "text": [
      "True\n"
     ]
    }
   ],
   "source": [
    "# ¿Todos los nombres de productos ausentes están relacionados con el departamento con ID 21?\n",
    "all_missing_in_department_21 = missing_product_names['department_id'].eq(21).all()\n",
    "print(all_missing_in_department_21)"
   ]
  },
  {
   "cell_type": "markdown",
   "id": "qDpdYn1Fht_I",
   "metadata": {
    "id": "qDpdYn1Fht_I"
   },
   "source": [
    "Describe brevemente cuáles son tus hallazgos."
   ]
  },
  {
   "cell_type": "code",
   "execution_count": 59,
   "id": "325c3464",
   "metadata": {
    "id": "325c3464"
   },
   "outputs": [
    {
     "name": "stdout",
     "output_type": "stream",
     "text": [
      "True\n"
     ]
    }
   ],
   "source": [
    "# Usa las tablas department y aisle para revisar los datos del pasillo con ID 100 y el departamento con ID 21.\n",
    "merged_data = missing_product_names.merge(df_aisles, left_on='aisle_id', right_on='aisle_id', how='left').merge(df_departments, left_on='department_id', right_on='department_id', how='left')\n",
    "all_missing_in_department_21 = (merged_data['department_id'] == 21).all()\n",
    "print(all_missing_in_department_21)"
   ]
  },
  {
   "cell_type": "markdown",
   "id": "nqhSTUPhhvEJ",
   "metadata": {
    "id": "nqhSTUPhhvEJ"
   },
   "source": [
    "Describe brevemente cuáles son tus hallazgos.\n",
    "\n",
    "Los hallazgos indican que todos los productos faltantes están efectivamente relacionados con el departamento con ID 21. Esto sugiere que los productos que no tienen nombre especificado en el conjunto de datos pertenecen exclusivamente al departamento con ID 21."
   ]
  },
  {
   "cell_type": "code",
   "execution_count": 55,
   "id": "6b295120",
   "metadata": {
    "id": "6b295120"
   },
   "outputs": [
    {
     "name": "stdout",
     "output_type": "stream",
     "text": [
      "Empty DataFrame\n",
      "Columns: [product_id, product_name, aisle_id, department_id, product_name_upper]\n",
      "Index: []\n"
     ]
    }
   ],
   "source": [
    "# Completa los nombres de productos ausentes con 'Unknown'\n",
    "df_products['product_name'].fillna('Unknown', inplace=True)\n",
    "print(df_products[df_products['product_name'].isnull()])"
   ]
  },
  {
   "cell_type": "markdown",
   "id": "fc70e5ad",
   "metadata": {
    "id": "fc70e5ad"
   },
   "source": [
    "Describe brevemente tus hallazgos y lo que hiciste con ellos.\n",
    "Después de completar los nombres de los productos ausentes con 'Unknown', se verificó nuevamente si había valores nulos en la columna 'product_name'. Los hallazgos indican que no hay productos con nombres faltantes en el DataFrame de productos. "
   ]
  },
  {
   "cell_type": "markdown",
   "id": "7eb45c86",
   "metadata": {
    "id": "7eb45c86"
   },
   "source": [
    "### `orders` data frame"
   ]
  },
  {
   "cell_type": "code",
   "execution_count": 56,
   "id": "93e41d96",
   "metadata": {
    "id": "93e41d96"
   },
   "outputs": [
    {
     "name": "stdout",
     "output_type": "stream",
     "text": [
      "order_id                      0\n",
      "user_id                       0\n",
      "order_number                  0\n",
      "order_dow                     0\n",
      "order_hour_of_day             0\n",
      "days_since_prior_order    28817\n",
      "dtype: int64\n"
     ]
    }
   ],
   "source": [
    "# Encuentra los valores ausentes\n",
    "missing_values = df_orders.isnull().sum()\n",
    "print(missing_values)"
   ]
  },
  {
   "cell_type": "code",
   "execution_count": 57,
   "id": "166e5a86",
   "metadata": {
    "id": "166e5a86"
   },
   "outputs": [
    {
     "name": "stdout",
     "output_type": "stream",
     "text": [
      "Empty DataFrame\n",
      "Columns: [order_id, user_id, order_number, order_dow, order_hour_of_day, days_since_prior_order]\n",
      "Index: []\n"
     ]
    }
   ],
   "source": [
    "# ¿Hay algún valor ausente que no sea el primer pedido del cliente?\n",
    "missing_values_not_first_order = df_orders[(df_orders['order_number'] != 1) & df_orders.isnull().any(axis=1)]\n",
    "print(missing_values_not_first_order)\n"
   ]
  },
  {
   "cell_type": "markdown",
   "id": "4e23d089",
   "metadata": {
    "id": "4e23d089"
   },
   "source": [
    "Describe brevemente tus hallazgos y lo que hiciste con ellos.\n",
    "Los hallazgos indican que hay valores ausentes en la columna 'days_since_prior_order', con un total de 28,817 valores faltantes en esa columna. "
   ]
  },
  {
   "cell_type": "markdown",
   "id": "69dc9ca4",
   "metadata": {
    "id": "69dc9ca4"
   },
   "source": [
    "### `order_products` data frame"
   ]
  },
  {
   "cell_type": "code",
   "execution_count": 58,
   "id": "b8240253",
   "metadata": {
    "id": "b8240253"
   },
   "outputs": [
    {
     "name": "stdout",
     "output_type": "stream",
     "text": [
      "order_id               0\n",
      "product_id             0\n",
      "add_to_cart_order    836\n",
      "reordered              0\n",
      "dtype: int64\n"
     ]
    }
   ],
   "source": [
    "# Encuentra los valores ausentes\n",
    "missing_values = df_order_products.isnull().sum()\n",
    "print(missing_values)\n"
   ]
  },
  {
   "cell_type": "code",
   "execution_count": 32,
   "id": "9a78e5ee",
   "metadata": {
    "id": "9a78e5ee"
   },
   "outputs": [
    {
     "name": "stdout",
     "output_type": "stream",
     "text": [
      "4\n",
      "3421079\n"
     ]
    }
   ],
   "source": [
    "# ¿Cuáles son los valores mínimos y máximos en esta columna?\n",
    "min_value = df_order_products['order_id'].min()\n",
    "max_value = df_order_products['order_id'].max()\n",
    "print(min_value)\n",
    "print(max_value)"
   ]
  },
  {
   "cell_type": "markdown",
   "id": "-Z2Ja215jW78",
   "metadata": {
    "id": "-Z2Ja215jW78"
   },
   "source": [
    "Describe brevemente cuáles son tus hallazgos.\n",
    "Los hallazgos muestran que hay valores faltantes en la columna 'add_to_cart_order', con un total de 836 valores ausentes en esa columna. Además, se ha encontrado que el valor mínimo en la columna 'order_id' es 4, mientras que el valor máximo es 3421079. "
   ]
  },
  {
   "cell_type": "code",
   "execution_count": 33,
   "id": "ab9d0c2b",
   "metadata": {
    "id": "ab9d0c2b",
    "scrolled": true
   },
   "outputs": [
    {
     "name": "stdout",
     "output_type": "stream",
     "text": [
      "[2449164 1968313 2926893 1717990 1959075  844733   61355  936852  264710\n",
      " 1564093  129627  293169 2849370 1386261 3308010  903110 2136777 3347453\n",
      " 1888628  165801 2094761 1038146 2997021  813364 2256933  171934 2409109\n",
      " 1730767 1169835  733526  404157 3125735  747668 1800005 1961723  871281\n",
      "  388234 1648217 1477139  102236 1021563 1832957 2721963  678116 1220886\n",
      " 1673227 2999801 1633337 2470674 2625444 1677118 2479011 3383594 1183255\n",
      " 1713430 2652650 1598369 1916118  854647 1302315  888470  180546 2621907\n",
      " 1308785 2729254    9310 2170451 2979697 1625713 1529171]\n"
     ]
    }
   ],
   "source": [
    "# Guarda todas las IDs de pedidos que tengan un valor ausente en 'add_to_cart_order'\n",
    "missing_add_to_cart_order = df_order_products[df_order_products['add_to_cart_order'].isnull()]['order_id'].unique()\n",
    "print(missing_add_to_cart_order)\n"
   ]
  },
  {
   "cell_type": "code",
   "execution_count": 34,
   "id": "54c31695",
   "metadata": {
    "id": "54c31695"
   },
   "outputs": [
    {
     "name": "stdout",
     "output_type": "stream",
     "text": [
      "True\n",
      "65\n"
     ]
    }
   ],
   "source": [
    "# ¿Todos los pedidos con valores ausentes tienen más de 64 productos?\n",
    "missing_orders = df_order_products[df_order_products['order_id'].isin(missing_add_to_cart_order)]\n",
    "all_missing_orders_have_more_than_64_products = (missing_orders.groupby('order_id').size() > 64).all()\n",
    "\n",
    "print(all_missing_orders_have_more_than_64_products)\n",
    "\n",
    "# Agrupa todos los pedidos con datos ausentes por su ID de pedido.\n",
    "grouped_missing_orders = missing_orders.groupby('order_id')\n",
    "\n",
    "# Cuenta el número de 'product_id' en cada pedido y revisa el valor mínimo del conteo.\n",
    "min_products_count = grouped_missing_orders.size().min()\n",
    "\n",
    "print(min_products_count)\n"
   ]
  },
  {
   "cell_type": "markdown",
   "id": "p9V6pddtjglj",
   "metadata": {
    "id": "p9V6pddtjglj"
   },
   "source": [
    "Describe brevemente cuáles son tus hallazgos.\n",
    "Los hallazgos son los siguientes:\n",
    "\n",
    "Se han identificado las IDs de los pedidos que tienen valores ausentes en la columna 'add_to_cart_order'. Estas IDs de pedido se guardaron en la variable missing_add_to_cart_order.\n",
    "Se verificó si todos los pedidos con valores ausentes tienen más de 64 productos. La respuesta fue verdadera, lo que indica que todos los pedidos con valores ausentes tienen más de 64 productos.\n",
    "Se agruparon todos los pedidos con datos ausentes por su ID de pedido y se contó el número de 'product_id' en cada pedido. El valor mínimo de este recuento fue 65, lo que indica que hay al menos un pedido con 65 productos en lugar de 64, como se esperaba."
   ]
  },
  {
   "cell_type": "code",
   "execution_count": 35,
   "id": "7a987d08",
   "metadata": {
    "id": "7a987d08"
   },
   "outputs": [
    {
     "name": "stdout",
     "output_type": "stream",
     "text": [
      "0          17\n",
      "1           1\n",
      "2           1\n",
      "3          35\n",
      "4           5\n",
      "           ..\n",
      "4545002    12\n",
      "4545003     9\n",
      "4545004     4\n",
      "4545005     8\n",
      "4545006     9\n",
      "Name: add_to_cart_order, Length: 4545007, dtype: int64\n"
     ]
    }
   ],
   "source": [
    "# Remplaza los valores ausentes en la columna 'add_to_cart? con 999 y convierte la columna al tipo entero.\n",
    "df_order_products['add_to_cart_order'].fillna(999, inplace=True)\n",
    "df_order_products['add_to_cart_order'] = df_order_products['add_to_cart_order'].astype(int)\n",
    "print(df_order_products['add_to_cart_order'])"
   ]
  },
  {
   "cell_type": "markdown",
   "id": "fea4bcc7",
   "metadata": {
    "id": "fea4bcc7"
   },
   "source": [
    "Describe brevemente tus hallazgos y lo que hiciste con ellos.\n",
    "Los hallazgos son los siguientes:\n",
    "\n",
    "Se reemplazaron los valores ausentes en la columna 'add_to_cart_order' con el valor 999 utilizando el método fillna().\n",
    "Luego, se convirtió la columna 'add_to_cart_order' al tipo de datos entero utilizando el método astype(int).\n",
    "Se imprimió la columna 'add_to_cart_order' después de los cambios realizados para verificar que los valores ausentes se reemplazaron correctamente y que la columna ahora tiene valores enteros en lugar de valores flotantes o nulos."
   ]
  },
  {
   "cell_type": "markdown",
   "id": "RnplPFY1gSrb",
   "metadata": {
    "id": "RnplPFY1gSrb"
   },
   "source": [
    "## Conclusiones\n",
    "\n",
    "Escribe aquí tus conclusiones intermedias sobre el Paso 2. Preprocesamiento de los datos\n",
    "En el Paso 2, se llevaron a cabo tareas cruciales para asegurar la calidad de los datos:\n",
    "\n",
    "Verificación y Corrección de Tipos de Datos:\n",
    "\n",
    "Se garantizó que las columnas de identificación (ID) fueran números enteros cuando fuera necesario para mantener la consistencia de los datos.\n",
    "Identificación y Completado de Valores Ausentes:\n",
    "\n",
    "Se encontraron y completaron valores ausentes en columnas importantes como nombres de productos y orden de adición al carrito.\n",
    "Los nombres de productos faltantes se llenaron con \"Unknown\" para mantener la integridad de los datos.\n",
    "Los valores ausentes en el orden de adición al carrito se reemplazaron con 999 y se convirtieron a enteros.\n",
    "Identificación y Eliminación de Valores Duplicados:\n",
    "\n",
    "Se eliminaron valores duplicados en los conjuntos de datos de pedidos y productos.\n",
    "Se verificó la integridad de los datos después de la eliminación de duplicados.\n",
    "Estos pasos aseguran que los datos estén limpios, coherentes y listos para análisis posteriores."
   ]
  },
  {
   "cell_type": "markdown",
   "id": "UjrOIwTcz3ri",
   "metadata": {
    "id": "UjrOIwTcz3ri"
   },
   "source": [
    "# Paso 3. Análisis de los datos\n",
    "\n",
    "Una vez los datos estén procesados y listos, haz el siguiente análisis:"
   ]
  },
  {
   "cell_type": "markdown",
   "id": "turkish-kidney",
   "metadata": {
    "id": "turkish-kidney"
   },
   "source": [
    "# [A] Fácil (deben completarse todos para aprobar)\n",
    "\n",
    "1. Verifica que los valores en las columnas `'order_hour_of_day'` y `'order_dow'` en la tabla orders sean razonables (es decir, `'order_hour_of_day'` oscile entre 0 y 23 y `'order_dow'` oscile entre 0 y 6).\n",
    "2. Crea un gráfico que muestre el número de personas que hacen pedidos dependiendo de la hora del día.\n",
    "3. Crea un gráfico que muestre qué día de la semana la gente hace sus compras.\n",
    "4. Crea un gráfico que muestre el tiempo que la gente espera hasta hacer su siguiente pedido, y comenta sobre los valores mínimos y máximos."
   ]
  },
  {
   "cell_type": "markdown",
   "id": "short-capability",
   "metadata": {
    "id": "short-capability"
   },
   "source": [
    "### [A1] Verifica que los valores sean sensibles"
   ]
  },
  {
   "cell_type": "code",
   "execution_count": 36,
   "id": "growing-fruit",
   "metadata": {
    "id": "growing-fruit"
   },
   "outputs": [
    {
     "name": "stdout",
     "output_type": "stream",
     "text": [
      "[13 12 19 20 11  8 18 15 16  9 22 10  0 14 17  1  7  6  2 21  3 23  5  4]\n"
     ]
    }
   ],
   "source": [
    "print(df_orders['order_hour_of_day'].unique())"
   ]
  },
  {
   "cell_type": "code",
   "execution_count": 37,
   "id": "accessory-malaysia",
   "metadata": {
    "id": "accessory-malaysia"
   },
   "outputs": [
    {
     "name": "stdout",
     "output_type": "stream",
     "text": [
      "[6 5 0 4 3 1 2]\n"
     ]
    }
   ],
   "source": [
    "print(df_orders['order_dow'].unique())"
   ]
  },
  {
   "cell_type": "markdown",
   "id": "hmR2GNQ6lCsX",
   "metadata": {
    "id": "hmR2GNQ6lCsX"
   },
   "source": [
    "Escribe aquí tus conclusiones\n",
    "Conclusiones:\n",
    "Horas del Día de los Pedidos:\n",
    "\n",
    "Las horas del día en que se realizan los pedidos varían desde las 0:00 hasta las 23:00.\n",
    "La mayoría de los pedidos parecen distribuirse a lo largo del día, con picos en las horas de la mañana y la tarde.\n",
    "Días de la Semana de los Pedidos:\n",
    "\n",
    "Los pedidos se realizan todos los días de la semana, desde el domingo (0) hasta el sábado (6).\n",
    "No parece haber un día específico de la semana con una cantidad significativamente mayor o menor de pedidos en comparación con otros días."
   ]
  },
  {
   "cell_type": "markdown",
   "id": "a6743a70",
   "metadata": {
    "id": "a6743a70"
   },
   "source": [
    "### [A2] Para cada hora del día, ¿cuántas personas hacen órdenes?"
   ]
  },
  {
   "cell_type": "code",
   "execution_count": 70,
   "id": "a36cca27",
   "metadata": {
    "id": "a36cca27"
   },
   "outputs": [
    {
     "data": {
      "image/png": "[encoded data removed]",
      "text/plain": [
       "<Figure size 720x432 with 1 Axes>"
      ]
     },
     "metadata": {
      "needs_background": "light"
     },
     "output_type": "display_data"
    }
   ],
   "source": [
    "import matplotlib.pyplot as plt\n",
    "\n",
    "# Contar el número de personas que hacen órdenes por hora del día\n",
    "orders_by_hour = df_orders.groupby('order_hour_of_day')['user_id'].nunique()\n",
    "\n",
    "# Crear un gráfico de barras\n",
    "plt.figure(figsize=(10, 6))\n",
    "orders_by_hour.plot(kind='bar')\n",
    "plt.title('Número de personas que hacen órdenes por hora del día')\n",
    "plt.xlabel('Hora del día')\n",
    "plt.ylabel('Número de personas')\n",
    "plt.xticks(rotation=0)\n",
    "plt.grid(axis='y')\n",
    "plt.show()\n"
   ]
  },
  {
   "cell_type": "markdown",
   "id": "11270eed",
   "metadata": {
    "id": "11270eed"
   },
   "source": [
    "Escribe aquí tus conclusiones\n",
    "Distribución de Usuarios por Hora del Día:\n",
    "La mayoría de las personas realizan pedidos durante las horas diurnas, con picos alrededor del mediodía y a primera hora de la tarde.\n",
    "El número de personas que hacen pedidos disminuye considerablemente durante las horas de la madrugada y la noche, alcanzando su punto más bajo entre la medianoche y las primeras horas de la mañana."
   ]
  },
  {
   "cell_type": "markdown",
   "id": "documented-command",
   "metadata": {
    "id": "documented-command"
   },
   "source": [
    "### [A3] ¿Qué día de la semana compran víveres las personas?"
   ]
  },
  {
   "cell_type": "code",
   "execution_count": 39,
   "id": "chief-digit",
   "metadata": {
    "id": "chief-digit"
   },
   "outputs": [
    {
     "data": {
      "image/png": "[encoded data removed]",
      "text/plain": [
       "<Figure size 720x432 with 1 Axes>"
      ]
     },
     "metadata": {
      "needs_background": "light"
     },
     "output_type": "display_data"
    }
   ],
   "source": [
    "# Contar el número de órdenes por día de la semana\n",
    "orders_by_day = df_orders['order_dow'].value_counts().sort_index()\n",
    "\n",
    "# Crear un gráfico de barras\n",
    "plt.figure(figsize=(10, 6))\n",
    "orders_by_day.plot(kind='bar')\n",
    "plt.title('Número de órdenes por día de la semana')\n",
    "plt.xlabel('Día de la semana')\n",
    "plt.ylabel('Número de órdenes')\n",
    "plt.xticks(rotation=0)\n",
    "plt.grid(axis='y')\n",
    "plt.show()\n"
   ]
  },
  {
   "cell_type": "markdown",
   "id": "dominant-lightning",
   "metadata": {
    "id": "dominant-lightning"
   },
   "source": [
    "Escribe aquí tus conclusiones\n",
    "\n",
    "Conclusiones:\n",
    "Distribución de Órdenes por Día de la Semana:\n",
    "Se observa que el número de órdenes varía a lo largo de la semana.\n",
    "Hay un pico en el número de órdenes durante el día 0 (domingo) y el día 1 (lunes), lo que indica que los usuarios tienden a realizar más pedidos al comienzo de la semana.\n",
    "A medida que avanza la semana, el número de órdenes tiende a disminuir, alcanzando su punto más bajo en el día 4 (jueves).\n",
    "El viernes (día 5) y el sábado (día 6) muestran un ligero aumento en el número de órdenes en comparación con los días laborables."
   ]
  },
  {
   "cell_type": "markdown",
   "id": "cutting-concert",
   "metadata": {
    "id": "cutting-concert"
   },
   "source": [
    "### [A4] ¿Cuánto tiempo esperan las personas hasta hacer otro pedido? Comenta sobre los valores mínimos y máximos."
   ]
  },
  {
   "cell_type": "code",
   "execution_count": 40,
   "id": "c231f523",
   "metadata": {
    "id": "c231f523"
   },
   "outputs": [
    {
     "name": "stdout",
     "output_type": "stream",
     "text": [
      "count    450135.000000\n",
      "mean         11.101814\n",
      "std           9.190004\n",
      "min           0.000000\n",
      "25%           4.000000\n",
      "50%           7.000000\n",
      "75%          15.000000\n",
      "max          30.000000\n",
      "Name: days_since_prior_order, dtype: float64\n"
     ]
    }
   ],
   "source": [
    "days_since_prior_order = df_orders['days_since_prior_order']\n",
    "print(days_since_prior_order.describe())\n"
   ]
  },
  {
   "cell_type": "markdown",
   "id": "discrete-vertex",
   "metadata": {
    "id": "discrete-vertex"
   },
   "source": [
    "Escribe aquí tus conclusiones\n",
    "Este análisis nos proporciona una visión general de la frecuencia con la que los usuarios realizan pedidos en la plataforma, lo cual es fundamental para comprender sus hábitos de compra y planificar estrategias comerciales y de servicio al cliente."
   ]
  },
  {
   "cell_type": "markdown",
   "id": "tight-staff",
   "metadata": {
    "id": "tight-staff"
   },
   "source": [
    "# [B] Intermedio (deben completarse todos para aprobar)\n",
    "\n",
    "1. ¿Existe alguna diferencia entre las distribuciones `'order_hour_of_day'` de los miércoles y los sábados? Traza gráficos de barra de `'order_hour_of_day'` para ambos días en la misma figura y describe las diferencias que observes.\n",
    "2. Grafica la distribución para el número de órdenes que hacen los clientes (es decir, cuántos clientes hicieron solo 1 pedido, cuántos hicieron 2, cuántos 3, y así sucesivamente...).\n",
    "3. ¿Cuáles son los 20 principales productos que se piden con más frecuencia (muestra su identificación y nombre)?"
   ]
  },
  {
   "cell_type": "markdown",
   "id": "packed-classic",
   "metadata": {
    "id": "packed-classic"
   },
   "source": [
    "### [B1] Diferencia entre miércoles y sábados para  `'order_hour_of_day'`. Traza gráficos de barra para los dos días y describe las diferencias que veas."
   ]
  },
  {
   "cell_type": "code",
   "execution_count": 41,
   "id": "d89b8403",
   "metadata": {
    "id": "d89b8403"
   },
   "outputs": [],
   "source": [
    "orders_wednesday = df_orders[df_orders['order_dow'] == 3]\n"
   ]
  },
  {
   "cell_type": "code",
   "execution_count": 42,
   "id": "94e54e8a",
   "metadata": {
    "id": "94e54e8a"
   },
   "outputs": [],
   "source": [
    "orders_saturday = df_orders[df_orders['order_dow'] == 6]\n"
   ]
  },
  {
   "cell_type": "code",
   "execution_count": 43,
   "id": "797c90a8",
   "metadata": {
    "id": "797c90a8"
   },
   "outputs": [
    {
     "name": "stdout",
     "output_type": "stream",
     "text": [
      "        order_id  user_id  order_number  order_dow  order_hour_of_day  \\\n",
      "6        2511640   148233            40          3                  8   \n",
      "16       3109465    55090            19          3                 15   \n",
      "28        133707   182261             1          3                 10   \n",
      "30       1890318   193501             3          3                 15   \n",
      "35        125325   106853             6          3                 19   \n",
      "...          ...      ...           ...        ...                ...   \n",
      "478917    972799    89702             4          3                  7   \n",
      "478946   2406747    63101            11          3                  8   \n",
      "478956    640934    27104             9          3                 10   \n",
      "478963   3270802   112087             2          3                 13   \n",
      "478965    216274     4391             3          3                  8   \n",
      "\n",
      "        days_since_prior_order  \n",
      "6                          2.0  \n",
      "16                         9.0  \n",
      "28                         NaN  \n",
      "30                        30.0  \n",
      "35                        30.0  \n",
      "...                        ...  \n",
      "478917                    10.0  \n",
      "478946                     5.0  \n",
      "478956                     6.0  \n",
      "478963                     6.0  \n",
      "478965                     8.0  \n",
      "\n",
      "[60897 rows x 6 columns]\n",
      "        order_id  user_id  order_number  order_dow  order_hour_of_day  \\\n",
      "0        1515936   183418            11          6                 13   \n",
      "11        102585   191558            18          6                 16   \n",
      "14       2843219    74699             4          6                 11   \n",
      "20         50934   178510             9          6                  9   \n",
      "26       1844247   122558             4          6                 18   \n",
      "...          ...      ...           ...        ...                ...   \n",
      "478924   3274344   145367            13          6                 10   \n",
      "478930    489820     7287            14          6                 19   \n",
      "478943    548902     6829             3          6                 10   \n",
      "478954    984024    47076             2          6                 21   \n",
      "478961   3006133    34561             7          6                 10   \n",
      "\n",
      "        days_since_prior_order  \n",
      "0                         30.0  \n",
      "11                         8.0  \n",
      "14                        30.0  \n",
      "20                         5.0  \n",
      "26                        30.0  \n",
      "...                        ...  \n",
      "478924                    13.0  \n",
      "478930                     2.0  \n",
      "478943                    30.0  \n",
      "478954                     6.0  \n",
      "478961                    30.0  \n",
      "\n",
      "[62649 rows x 6 columns]\n"
     ]
    }
   ],
   "source": [
    "print(orders_wednesday)\n",
    "print(orders_saturday)"
   ]
  },
  {
   "cell_type": "code",
   "execution_count": 44,
   "id": "35bcea30",
   "metadata": {
    "id": "35bcea30"
   },
   "outputs": [
    {
     "data": {
      "image/png": "[encoded data removed]",
      "text/plain": [
       "<Figure size 864x432 with 1 Axes>"
      ]
     },
     "metadata": {
      "needs_background": "light"
     },
     "output_type": "display_data"
    }
   ],
   "source": [
    "orders_by_hour_wednesday = orders_wednesday['order_hour_of_day'].value_counts().sort_index()\n",
    "orders_by_hour_saturday = orders_saturday['order_hour_of_day'].value_counts().sort_index()\n",
    "\n",
    "plt.figure(figsize=(12, 6))\n",
    "plt.bar(orders_by_hour_wednesday.index, orders_by_hour_wednesday.values, alpha=0.7, label='Miércoles')\n",
    "plt.bar(orders_by_hour_saturday.index, orders_by_hour_saturday.values, alpha=0.7, label='Sábado')\n",
    "plt.title('Distribución de pedidos por hora del día (Miércoles vs Sábado)')\n",
    "plt.xlabel('Hora del día')\n",
    "plt.ylabel('Número de pedidos')\n",
    "plt.legend()\n",
    "plt.xticks(range(24))\n",
    "plt.show()\n"
   ]
  },
  {
   "cell_type": "markdown",
   "id": "charitable-congo",
   "metadata": {
    "id": "charitable-congo"
   },
   "source": [
    "Escribe aquí tus conclusiones\n",
    "Conclusiones:\n",
    "Distribución de pedidos por hora del día (Miércoles vs Sábado):\n",
    "Se observa que tanto los miércoles como los sábados presentan patrones de comportamiento similares en cuanto a la distribución de pedidos por hora del día.\n",
    "Ambos días muestran un pico en el número de pedidos alrededor de las 10:00 y 11:00 horas, lo que sugiere que estas son horas populares para realizar compras en la plataforma.\n",
    "Además, hay una mayor actividad de pedidos durante las horas de la mañana y la tarde en comparación con las horas de la noche y la madrugada, lo cual es consistente con los hábitos de compra diarios.\n",
    "La distribución de pedidos por hora del día entre miércoles y sábado es bastante similar, lo que indica que los usuarios mantienen cierta consistencia en sus patrones de compra independientemente del día de la semana."
   ]
  },
  {
   "cell_type": "markdown",
   "id": "e3891143",
   "metadata": {
    "id": "e3891143"
   },
   "source": [
    "### [B2] ¿Cuál es la distribución para el número de pedidos por cliente?"
   ]
  },
  {
   "cell_type": "code",
   "execution_count": 45,
   "id": "d8c26c23",
   "metadata": {
    "id": "d8c26c23"
   },
   "outputs": [
    {
     "name": "stdout",
     "output_type": "stream",
     "text": [
      "1     55357\n",
      "2     36508\n",
      "3     21547\n",
      "4     13498\n",
      "5      8777\n",
      "6      6012\n",
      "7      4240\n",
      "8      3019\n",
      "9      2152\n",
      "10     1645\n",
      "11     1308\n",
      "12      947\n",
      "13      703\n",
      "14      512\n",
      "15      437\n",
      "16      263\n",
      "17      184\n",
      "18      121\n",
      "19       85\n",
      "20       52\n",
      "21       22\n",
      "22       23\n",
      "23       19\n",
      "24        3\n",
      "25        1\n",
      "26        1\n",
      "28        1\n",
      "Name: user_id, dtype: int64\n"
     ]
    }
   ],
   "source": [
    "orders_per_customer = df_orders['user_id'].value_counts().value_counts().sort_index()\n",
    "print(orders_per_customer)"
   ]
  },
  {
   "cell_type": "code",
   "execution_count": 46,
   "id": "00e69a66",
   "metadata": {
    "id": "00e69a66"
   },
   "outputs": [
    {
     "data": {
      "image/png": "[encoded data removed]",
      "text/plain": [
       "<Figure size 720x432 with 1 Axes>"
      ]
     },
     "metadata": {
      "needs_background": "light"
     },
     "output_type": "display_data"
    }
   ],
   "source": [
    "plt.figure(figsize=(10, 6))\n",
    "orders_per_customer.plot(kind='bar')\n",
    "plt.title('Distribución del número de pedidos por cliente')\n",
    "plt.xlabel('Número de pedidos')\n",
    "plt.ylabel('Número de clientes')\n",
    "plt.grid(axis='y')\n",
    "plt.show()"
   ]
  },
  {
   "cell_type": "markdown",
   "id": "d2eff7d5",
   "metadata": {
    "id": "d2eff7d5"
   },
   "source": [
    "Escribe aquí tus conclusiones\n",
    "\n",
    "Conclusiones:\n",
    "Distribución del número de pedidos por cliente:\n",
    "La mayoría de los clientes han realizado entre 1 y 5 pedidos, lo que indica que la base de clientes está compuesta principalmente por usuarios que han hecho un número limitado de compras en la plataforma.\n",
    "El número de clientes disminuye a medida que aumenta el número de pedidos por cliente, lo que es esperado ya que es menos probable que haya clientes que realicen un gran número de pedidos en comparación con aquellos que hacen solo unas pocas compras.\n",
    "Hay una disminución significativa en el número de clientes a medida que aumenta el número de pedidos, especialmente después de 10 pedidos por cliente. Esto sugiere que una minoría de usuarios son clientes frecuentes y realizan un número considerable de compras en la plataforma.\n",
    "La distribución muestra una cola larga, con algunos clientes que han realizado hasta 28 pedidos, aunque estos casos son menos comunes."
   ]
  },
  {
   "cell_type": "markdown",
   "id": "54a0319c",
   "metadata": {
    "id": "54a0319c"
   },
   "source": [
    "### [B3] ¿Cuáles son los 20 productos más populares (muestra su ID y nombre)?"
   ]
  },
  {
   "cell_type": "code",
   "execution_count": 47,
   "id": "exterior-arizona",
   "metadata": {
    "id": "exterior-arizona",
    "scrolled": true
   },
   "outputs": [
    {
     "name": "stdout",
     "output_type": "stream",
     "text": [
      "24852    66050\n",
      "13176    53297\n",
      "21137    37039\n",
      "21903    33971\n",
      "47209    29773\n",
      "Name: product_id, dtype: int64\n"
     ]
    }
   ],
   "source": [
    "top_products = df_order_products['product_id'].value_counts()\n",
    "print(top_products.head())\n"
   ]
  },
  {
   "cell_type": "code",
   "execution_count": 48,
   "id": "universal-facial",
   "metadata": {
    "id": "universal-facial"
   },
   "outputs": [
    {
     "name": "stdout",
     "output_type": "stream",
     "text": [
      "0                               Chocolate Sandwich Cookies\n",
      "1                                         All-Seasons Salt\n",
      "2                     Robust Golden Unsweetened Oolong Tea\n",
      "3        Smart Ones Classic Favorites Mini Rigatoni Wit...\n",
      "6                           Pure Coconut Water With Orange\n",
      "                               ...                        \n",
      "49689                        HIGH PERFORMANCE ENERGY DRINK\n",
      "49690                        ORIGINAL PANCAKE & WAFFLE MIX\n",
      "49691      ORGANIC INSTANT OATMEAL LIGHT MAPLE BROWN SUGAR\n",
      "49692                               SPRING WATER BODY WASH\n",
      "49693                              BURRITO- STEAK & CHEESE\n",
      "Name: product_name, Length: 45573, dtype: object\n"
     ]
    }
   ],
   "source": [
    "top_product_names = df_products[df_products['product_id'].isin(top_products.index)]['product_name']\n",
    "print(top_product_names)"
   ]
  },
  {
   "cell_type": "code",
   "execution_count": 49,
   "id": "bbcdd20b",
   "metadata": {
    "id": "bbcdd20b"
   },
   "outputs": [
    {
     "name": "stdout",
     "output_type": "stream",
     "text": [
      "       Product ID                                       Product Name  \\\n",
      "0           24852                         Chocolate Sandwich Cookies   \n",
      "1           13176                                   All-Seasons Salt   \n",
      "2           21137               Robust Golden Unsweetened Oolong Tea   \n",
      "3           21903  Smart Ones Classic Favorites Mini Rigatoni Wit...   \n",
      "4           47209                     Pure Coconut Water With Orange   \n",
      "...           ...                                                ...   \n",
      "45568       10543                      HIGH PERFORMANCE ENERGY DRINK   \n",
      "45569        5222                      ORIGINAL PANCAKE & WAFFLE MIX   \n",
      "45570        2347    ORGANIC INSTANT OATMEAL LIGHT MAPLE BROWN SUGAR   \n",
      "45571       11893                             SPRING WATER BODY WASH   \n",
      "45572       32074                            BURRITO- STEAK & CHEESE   \n",
      "\n",
      "       Frequency  \n",
      "0          66050  \n",
      "1          53297  \n",
      "2          37039  \n",
      "3          33971  \n",
      "4          29773  \n",
      "...          ...  \n",
      "45568          1  \n",
      "45569          1  \n",
      "45570          1  \n",
      "45571          1  \n",
      "45572          1  \n",
      "\n",
      "[45573 rows x 3 columns]\n"
     ]
    }
   ],
   "source": [
    "top_products_info = pd.DataFrame({'Product ID': top_products.index, 'Product Name': top_product_names.values, 'Frequency': top_products.values})\n",
    "print(top_products_info)"
   ]
  },
  {
   "cell_type": "markdown",
   "id": "7df00f47",
   "metadata": {
    "id": "7df00f47"
   },
   "source": [
    "Escribe aquí tus conclusiones\n",
    "\n",
    "Conclusiones:\n",
    "Productos más populares:\n",
    "Los cinco productos más populares son:\n",
    "Chocolate Sandwich Cookies\n",
    "All-Seasons Salt\n",
    "Robust Golden Unsweetened Oolong Tea\n",
    "Smart Ones Classic Favorites Mini Rigatoni with Vodka Cream Sauce\n",
    "Pure Coconut Water With Orange\n",
    "Estos productos tienen una frecuencia de compra muy alta, lo que sugiere que son productos populares entre los usuarios de la plataforma de compras.\n",
    "Información detallada de los productos más populares:\n",
    "Se creó un DataFrame top_products_info que contiene el ID del producto, el nombre del producto y su frecuencia de compra.\n",
    "Este DataFrame proporciona una visión más detallada de los productos más populares, lo que puede ser útil para análisis posteriores, como la segmentación de clientes o recomendaciones de productos."
   ]
  },
  {
   "cell_type": "markdown",
   "id": "gross-theme",
   "metadata": {
    "id": "gross-theme"
   },
   "source": [
    "# [C] Difícil (deben completarse todos para aprobar)\n",
    "\n",
    "1. ¿Cuántos artículos suelen comprar las personas en un pedido? ¿Cómo es la distribución?\n",
    "2. ¿Cuáles son los 20 principales artículos que vuelven a pedirse con mayor frecuencia (muestra sus nombres e IDs de los productos)?\n",
    "3. Para cada producto, ¿cuál es la tasa de repetición del pedido (número de repeticiones de pedido/total de pedidos?\n",
    "4. Para cada cliente, ¿qué proporción de los productos que pidió ya los había pedido? Calcula la tasa de repetición de pedido para cada usuario en lugar de para cada producto.\n",
    "5. ¿Cuáles son los 20 principales artículos que la gente pone primero en sus carritos (muestra las IDs de los productos, sus nombres, y el número de veces en que fueron el primer artículo en añadirse al carrito)?"
   ]
  },
  {
   "cell_type": "markdown",
   "id": "romantic-deposit",
   "metadata": {
    "id": "romantic-deposit"
   },
   "source": [
    "### [C1] ¿Cuántos artículos compran normalmente las personas en un pedido? ¿Cómo es la distribución?"
   ]
  },
  {
   "cell_type": "code",
   "execution_count": 50,
   "id": "virtual-punch",
   "metadata": {
    "id": "virtual-punch"
   },
   "outputs": [],
   "source": [
    "average_items_per_order = df_order_products.groupby('order_id')['product_id'].count().mean()"
   ]
  },
  {
   "cell_type": "code",
   "execution_count": 51,
   "id": "sensitive-breathing",
   "metadata": {
    "id": "sensitive-breathing"
   },
   "outputs": [
    {
     "name": "stdout",
     "output_type": "stream",
     "text": [
      "10.098983215049127\n"
     ]
    }
   ],
   "source": [
    "print(average_items_per_order)"
   ]
  },
  {
   "cell_type": "code",
   "execution_count": 52,
   "id": "completed-frank",
   "metadata": {
    "id": "completed-frank"
   },
   "outputs": [
    {
     "data": {
      "image/png": "[encoded data removed]",
      "text/plain": [
       "<Figure size 720x432 with 1 Axes>"
      ]
     },
     "metadata": {
      "needs_background": "light"
     },
     "output_type": "display_data"
    }
   ],
   "source": [
    "plt.figure(figsize=(10, 6))\n",
    "df_order_products.groupby('order_id')['product_id'].count().value_counts().sort_index().plot(kind='bar')\n",
    "plt.title('Distribución de la cantidad de artículos por pedido')\n",
    "plt.xlabel('Cantidad de artículos por pedido')\n",
    "plt.ylabel('Número de pedidos')\n",
    "plt.grid(axis='y')\n",
    "plt.show()"
   ]
  },
  {
   "cell_type": "markdown",
   "id": "designed-mortality",
   "metadata": {
    "id": "designed-mortality"
   },
   "source": [
    "Escribe aquí tus conclusiones\n",
    "\n",
    "Conclusiones:\n",
    "\n",
    "El promedio de artículos por pedido es aproximadamente 10.1.\n",
    "La distribución de la cantidad de artículos por pedido muestra que la mayoría de los pedidos tienen entre 1 y 20 artículos, con una disminución gradual en la frecuencia a medida que aumenta el número de artículos por pedido.\n",
    "La mayor cantidad de pedidos se encuentra en el rango de 5 a 15 artículos por pedido, lo que sugiere que la mayoría de los usuarios realizan compras de tamaño moderado."
   ]
  },
  {
   "cell_type": "markdown",
   "id": "5e6b5537",
   "metadata": {
    "id": "5e6b5537"
   },
   "source": [
    "### [C2] ¿Cuáles son los 20 principales artículos que vuelven a pedirse con mayor frecuencia (muestra sus nombres e IDs de los productos)?"
   ]
  },
  {
   "cell_type": "code",
   "execution_count": 53,
   "id": "9374e55a",
   "metadata": {
    "id": "9374e55a"
   },
   "outputs": [
    {
     "name": "stdout",
     "output_type": "stream",
     "text": [
      "24852    55763\n",
      "13176    44450\n",
      "21137    28639\n",
      "21903    26233\n",
      "47209    23629\n",
      "47766    18743\n",
      "27845    16251\n",
      "47626    15044\n",
      "27966    14748\n",
      "16797    13945\n",
      "26209    13327\n",
      "22935    11145\n",
      "24964    10411\n",
      "45007    10076\n",
      "49683     9538\n",
      "28204     8989\n",
      "8277      8836\n",
      "39275     8799\n",
      "5876      8412\n",
      "49235     8389\n",
      "Name: product_id, dtype: int64\n"
     ]
    }
   ],
   "source": [
    "reordered_products = df_order_products[df_order_products['reordered'] == 1]['product_id'].value_counts()\n",
    "print(reordered_products.head(20))"
   ]
  },
  {
   "cell_type": "code",
   "execution_count": 54,
   "id": "possible-change",
   "metadata": {
    "id": "possible-change",
    "scrolled": true
   },
   "outputs": [],
   "source": [
    "top_reordered_products = df_products[df_products['product_id'].isin(reordered_products.index)].copy()\n",
    "top_reordered_products.loc[:, 'product_name'] = top_reordered_products['product_name'].str.title()"
   ]
  },
  {
   "cell_type": "code",
   "execution_count": 55,
   "id": "professional-surfing",
   "metadata": {
    "id": "professional-surfing",
    "scrolled": true
   },
   "outputs": [
    {
     "name": "stdout",
     "output_type": "stream",
     "text": [
      "       product_id                                       product_name\n",
      "0               1                         Chocolate Sandwich Cookies\n",
      "2               3               Robust Golden Unsweetened Oolong Tea\n",
      "3               4  Smart Ones Classic Favorites Mini Rigatoni Wit...\n",
      "6               7                     Pure Coconut Water With Orange\n",
      "7               8                  Cut Russet Potatoes Steam N' Mash\n",
      "...           ...                                                ...\n",
      "49689       49690                      High Performance Energy Drink\n",
      "49690       49691                      Original Pancake & Waffle Mix\n",
      "49691       49692    Organic Instant Oatmeal Light Maple Brown Sugar\n",
      "49692       49693                             Spring Water Body Wash\n",
      "49693       49694                            Burrito- Steak & Cheese\n",
      "\n",
      "[36228 rows x 2 columns]\n"
     ]
    }
   ],
   "source": [
    "print(top_reordered_products[['product_id', 'product_name']])"
   ]
  },
  {
   "cell_type": "code",
   "execution_count": null,
   "id": "27a60f74",
   "metadata": {
    "id": "48dd3658"
   },
   "outputs": [],
   "source": []
  },
  {
   "cell_type": "code",
   "execution_count": 83,
   "id": "48dd3658",
   "metadata": {
    "id": "48dd3658"
   },
   "outputs": [
    {
     "data": {
      "image/png": "[encoded data removed]",
      "text/plain": [
       "<Figure size 720x432 with 1 Axes>"
      ]
     },
     "metadata": {
      "needs_background": "light"
     },
     "output_type": "display_data"
    }
   ],
   "source": [
    "plt.figure(figsize=(10, 6))\n",
    "reordered_products.head(400).plot(kind='bar')\n",
    "plt.title('20 principales productos que se vuelven a pedir con más frecuencia')\n",
    "plt.xlabel('ID del producto')\n",
    "plt.ylabel('Número de repeticiones de pedido')\n",
    "plt.xticks(rotation=45)\n",
    "plt.grid(axis='y')\n",
    "plt.show()"
   ]
  },
  {
   "cell_type": "markdown",
   "id": "80e70c74",
   "metadata": {
    "id": "80e70c74"
   },
   "source": [
    "Escribe aquí tus conclusiones\n",
    "Conclusiones:\n",
    "\n",
    "Los productos que se vuelven a pedir con más frecuencia son aquellos que tienen una alta cantidad de repeticiones en los pedidos anteriores.\n",
    "Los cinco productos principales que se vuelven a pedir con más frecuencia son:\n",
    "Chocolate Sandwich Cookies\n",
    "All-Seasons Salt\n",
    "Robust Golden Unsweetened Oolong Tea\n",
    "Smart Ones Classic Favorites Mini Rigatoni with Vodka Cream Sauce\n",
    "Pure Coconut Water With Orange\n",
    "Estos productos son populares entre los usuarios y tienen una demanda constante a lo largo del tiempo, lo que sugiere que son productos preferidos por los clientes y probablemente forman parte de sus compras habituales.\n",
    "El gráfico muestra la cantidad de repeticiones de pedido para los 20 principales productos que se vuelven a pedir con más frecuencia. Esto proporciona una visualización clara de qué productos son los más solicitados nuevamente por los usuarios."
   ]
  },
  {
   "cell_type": "markdown",
   "id": "9d312b14",
   "metadata": {
    "id": "9d312b14"
   },
   "source": [
    "### [C3] Para cada producto, ¿cuál es la proporción de las veces que se pide y que se vuelve a pedir?"
   ]
  },
  {
   "cell_type": "code",
   "execution_count": 60,
   "id": "8ae9f4b1",
   "metadata": {
    "id": "8ae9f4b1"
   },
   "outputs": [
    {
     "name": "stdout",
     "output_type": "stream",
     "text": [
      "product_id\n",
      "1        0.564286\n",
      "2        0.000000\n",
      "3        0.738095\n",
      "4        0.510204\n",
      "7        0.500000\n",
      "           ...   \n",
      "49690    0.800000\n",
      "49691    0.430556\n",
      "49692    0.416667\n",
      "49693    0.440000\n",
      "49694    0.333333\n",
      "Name: reordered, Length: 45573, dtype: float64\n"
     ]
    }
   ],
   "source": [
    "reorder_ratio = df_order_products.groupby('product_id')['reordered'].mean()\n",
    "print(reorder_ratio)"
   ]
  },
  {
   "cell_type": "code",
   "execution_count": 61,
   "id": "103e7fe1",
   "metadata": {
    "id": "103e7fe1"
   },
   "outputs": [
    {
     "name": "stdout",
     "output_type": "stream",
     "text": [
      "product_id\n",
      "154    1.0\n",
      "173    1.0\n",
      "174    1.0\n",
      "193    1.0\n",
      "230    1.0\n",
      "337    1.0\n",
      "374    1.0\n",
      "414    1.0\n",
      "475    1.0\n",
      "479    1.0\n",
      "485    1.0\n",
      "492    1.0\n",
      "559    1.0\n",
      "596    1.0\n",
      "609    1.0\n",
      "619    1.0\n",
      "661    1.0\n",
      "687    1.0\n",
      "700    1.0\n",
      "709    1.0\n",
      "Name: reordered, dtype: float64\n"
     ]
    }
   ],
   "source": [
    "top_reorder_ratio = reorder_ratio.nlargest(20)\n",
    "print(top_reorder_ratio)"
   ]
  },
  {
   "cell_type": "code",
   "execution_count": 71,
   "id": "social-individual",
   "metadata": {
    "id": "social-individual"
   },
   "outputs": [
    {
     "data": {
      "image/png": "[encoded data removed]",
      "text/plain": [
       "<Figure size 720x432 with 1 Axes>"
      ]
     },
     "metadata": {
      "needs_background": "light"
     },
     "output_type": "display_data"
    }
   ],
   "source": [
    "plt.figure(figsize=(10, 6))\n",
    "top_reorder_ratio.plot(kind='bar')\n",
    "plt.title('Tasa de repetición del pedido para los 20 principales productos')\n",
    "plt.xlabel('ID del producto')\n",
    "plt.ylabel('Tasa de repetición del pedido')\n",
    "plt.xticks(rotation=45)\n",
    "plt.grid(axis='y')\n",
    "plt.show()"
   ]
  },
  {
   "cell_type": "markdown",
   "id": "I10dEIAyldcO",
   "metadata": {
    "id": "I10dEIAyldcO"
   },
   "source": [
    "Escribe aquí tus conclusiones\n",
    "\n",
    "Conclusiones:\n",
    "\n",
    "La tasa de repetición del pedido para un producto específico se calcula como el promedio de la columna \"reordered\" agrupado por el ID del producto. Esta tasa indica la probabilidad de que un producto sea vuelto a pedir en comparación con el número total de pedidos en los que ha sido incluido.\n",
    "Los productos con una tasa de repetición del pedido de 1.0 tienen una alta probabilidad de ser vuelto a pedir en todos los pedidos en los que han sido incluidos.\n",
    "Los 20 principales productos con la tasa de repetición más alta muestran una tendencia de ser consistentemente vuelto a pedir por los clientes.\n",
    "Estos productos podrían ser considerados como productos esenciales o favoritos por los clientes, lo que sugiere una fuerte lealtad o preferencia hacia ellos."
   ]
  },
  {
   "cell_type": "markdown",
   "id": "subject-boxing",
   "metadata": {
    "id": "subject-boxing"
   },
   "source": [
    "### [C4] Para cada cliente, ¿qué proporción de sus productos ya los había pedido?"
   ]
  },
  {
   "cell_type": "code",
   "execution_count": 62,
   "id": "medical-couple",
   "metadata": {
    "id": "medical-couple",
    "scrolled": true
   },
   "outputs": [
    {
     "name": "stdout",
     "output_type": "stream",
     "text": [
      "user_id\n",
      "2     0.038462\n",
      "4     0.000000\n",
      "5     0.666667\n",
      "6     0.000000\n",
      "7     0.944444\n",
      "11    0.200000\n",
      "12    0.250000\n",
      "13    0.481481\n",
      "14    0.451587\n",
      "15    0.633333\n",
      "16    0.549663\n",
      "17    0.714896\n",
      "19    0.523810\n",
      "20    0.000000\n",
      "21    0.464286\n",
      "22    1.000000\n",
      "24    0.500000\n",
      "26    0.516667\n",
      "27    0.635616\n",
      "28    0.444322\n",
      "Name: reordered, dtype: float64\n"
     ]
    }
   ],
   "source": [
    "user_reorder_ratio = df_order_products.groupby('order_id')['reordered'].mean()\n",
    "customer_reorder_ratio = df_orders.merge(user_reorder_ratio, on='order_id').groupby('user_id')['reordered'].mean()\n",
    "print(customer_reorder_ratio.head(20))"
   ]
  },
  {
   "cell_type": "code",
   "execution_count": 72,
   "id": "8892e4b4",
   "metadata": {
    "id": "8892e4b4"
   },
   "outputs": [
    {
     "data": {
      "image/png": "[encoded data removed]",
      "text/plain": [
       "<Figure size 720x432 with 1 Axes>"
      ]
     },
     "metadata": {
      "needs_background": "light"
     },
     "output_type": "display_data"
    }
   ],
   "source": [
    "plt.figure(figsize=(10, 6))\n",
    "customer_reorder_ratio.hist(bins=20)\n",
    "plt.title('Distribución de la tasa de repetición de pedido para cada cliente')\n",
    "plt.xlabel('Tasa de repetición de pedido')\n",
    "plt.ylabel('Número de clientes')\n",
    "plt.grid(axis='y')\n",
    "plt.show()"
   ]
  },
  {
   "cell_type": "markdown",
   "id": "BgJSvXDsleXz",
   "metadata": {
    "id": "BgJSvXDsleXz"
   },
   "source": [
    "Escribe aquí tus conclusiones\n",
    "\n",
    "Conclusiones:\n",
    "\n",
    "La tasa de repetición de pedido para cada cliente se calcula como el promedio de la columna \"reordered\" agrupado por el ID del cliente. Esta tasa representa la proporción de productos que un cliente ha vuelto a pedir en comparación con el total de productos que ha pedido.\n",
    "La distribución de la tasa de repetición de pedido para cada cliente muestra que la mayoría de los clientes tienen una tasa de repetición que varía entre 0 y 1.\n",
    "La distribución parece sesgada hacia la derecha, lo que indica que la mayoría de los clientes tienden a repetir al menos algunos de sus pedidos.\n",
    "Algunos clientes tienen una tasa de repetición cercana a 1, lo que sugiere que son clientes muy leales que tienden a repetir la mayoría de sus pedidos. Por otro lado, algunos clientes tienen una tasa de repetición cercana a 0, lo que indica que rara vez repiten productos en sus pedidos."
   ]
  },
  {
   "cell_type": "markdown",
   "id": "92d35137",
   "metadata": {
    "id": "92d35137"
   },
   "source": [
    "### [C5] ¿Cuáles son los 20 principales artículos que las personas ponen primero en sus carritos?"
   ]
  },
  {
   "cell_type": "code",
   "execution_count": 63,
   "id": "0ae57274",
   "metadata": {
    "id": "0ae57274",
    "scrolled": true
   },
   "outputs": [],
   "source": [
    "first_in_cart = df_order_products[df_order_products['add_to_cart_order'] == 1]['product_id'].value_counts().head(20)"
   ]
  },
  {
   "cell_type": "code",
   "execution_count": 66,
   "id": "forty-netherlands",
   "metadata": {
    "id": "forty-netherlands",
    "scrolled": true
   },
   "outputs": [],
   "source": [
    "top_first_in_cart = df_products[df_products['product_id'].isin(first_in_cart.index)].copy()\n",
    "top_first_in_cart.loc[:, 'product_name'] = top_first_in_cart['product_name'].str.title()"
   ]
  },
  {
   "cell_type": "code",
   "execution_count": 67,
   "id": "08e41ec2",
   "metadata": {
    "id": "08e41ec2"
   },
   "outputs": [
    {
     "name": "stdout",
     "output_type": "stream",
     "text": [
      "       product_id                 product_name\n",
      "195           196                         Soda\n",
      "5784         5785  Organic Reduced Fat 2% Milk\n",
      "12340       12341                Hass Avocados\n",
      "13175       13176       Bag Of Organic Bananas\n",
      "16796       16797                 Strawberries\n",
      "19659       19660                 Spring Water\n",
      "21136       21137         Organic Strawberries\n",
      "21902       21903         Organic Baby Spinach\n",
      "22934       22935         Organic Yellow Onion\n",
      "24851       24852                       Banana\n",
      "26208       26209                        Limes\n",
      "27085       27086                  Half & Half\n",
      "27844       27845           Organic Whole Milk\n",
      "27965       27966          Organic Raspberries\n",
      "38688       38689     Organic Reduced Fat Milk\n",
      "44631       44632   Sparkling Water Grapefruit\n",
      "47208       47209         Organic Hass Avocado\n",
      "47625       47626                  Large Lemon\n",
      "47765       47766              Organic Avocado\n",
      "49234       49235          Organic Half & Half\n"
     ]
    }
   ],
   "source": [
    "print(top_first_in_cart[['product_id', 'product_name']])"
   ]
  },
  {
   "cell_type": "markdown",
   "id": "28ce9872",
   "metadata": {
    "id": "28ce9872"
   },
   "source": [
    "Escribe aquí tus conclusiones\n",
    "Estos productos son los más frecuentemente seleccionados como el primer artículo en los pedidos, lo que indica que son populares entre los usuarios para agregarlos inicialmente a su carrito de compras."
   ]
  },
  {
   "cell_type": "markdown",
   "id": "uITbFCEoDosC",
   "metadata": {
    "id": "uITbFCEoDosC"
   },
   "source": [
    "### Conclusion general del proyecto:"
   ]
  },
  {
   "cell_type": "markdown",
   "id": "ce26bd6d",
   "metadata": {
    "id": "Nk-4GS7mDwqY"
   },
   "source": [
    "\n",
    "Este proyecto de análisis de datos sobre los pedidos de Instacart proporciona una visión general detallada del comportamiento de compra de los usuarios, así como de la popularidad de los productos en la plataforma. A continuación, se presentan algunas conclusiones generales:\n",
    "\n",
    "Datos Duplicados y Ausentes: Se identificaron y manejaron valores duplicados y ausentes en varios conjuntos de datos, incluidos los relacionados con órdenes, productos, departamentos y pasillos. Se tomaron medidas para eliminar duplicados y rellenar valores faltantes con información relevante o valores predeterminados, según el contexto.\n",
    "\n",
    "Análisis de Comportamiento de Compra:\n",
    "\n",
    "Se observó que la mayoría de las órdenes se realizan entre las 10 a.m. y las 4 p.m., con un pico alrededor del mediodía.\n",
    "Los días de la semana con mayor actividad de compra son sábado y miércoles, con un ligero descenso los domingos.\n",
    "La mayoría de los clientes realizan pedidos con una frecuencia promedio de 7 a 15 días, siendo el tiempo medio entre pedidos aproximadamente 11 días.\n",
    "Popularidad de los Productos:\n",
    "\n",
    "Los productos más populares incluyen artículos comunes como galletas de chocolate, sal y té.\n",
    "También se observó una alta proporción de productos que se vuelven a pedir, lo que sugiere una preferencia y fidelidad del cliente hacia ciertos artículos.\n",
    "Análisis Adicional:\n",
    "\n",
    "Se examinó la distribución del número de pedidos por cliente, lo que proporciona información sobre la lealtad y el compromiso del cliente con el servicio.\n",
    "Se identificaron y analizaron los principales artículos que se vuelven a pedir con mayor frecuencia, lo que puede ayudar a orientar estrategias de marketing y promoción.\n",
    "\n",
    "En resumen, este proyecto ofrece información valiosa sobre los hábitos de compra de los usuarios y la popularidad de los productos en la plataforma de Instacart, lo que puede ser útil para tomar decisiones comerciales informadas y mejorar la experiencia del cliente.\n",
    "\n",
    "\n",
    "\n",
    "\n"
   ]
  },
  {
   "cell_type": "markdown",
   "id": "9e56e107",
   "metadata": {},
   "source": []
  }
 ],
 "metadata": {
  "colab": {
   "provenance": []
  },
  "kernelspec": {
   "display_name": "Python 3 (ipykernel)",
   "language": "python",
   "name": "python3"
  },
  "language_info": {
   "codemirror_mode": {
    "name": "ipython",
    "version": 3
   },
   "file_extension": ".py",
   "mimetype": "text/x-python",
   "name": "python",
   "nbconvert_exporter": "python",
   "pygments_lexer": "ipython3",
   "version": "3.9.19"
  },
  "toc": {
   "base_numbering": 1,
   "nav_menu": {},
   "number_sections": true,
   "sideBar": true,
   "skip_h1_title": true,
   "title_cell": "Table of Contents",
   "title_sidebar": "Contents",
   "toc_cell": false,
   "toc_position": {},
   "toc_section_display": true,
   "toc_window_display": false
  },
  "vscode": {
   "interpreter": {
    "hash": "01a7be9ec63e704a62cefc5fe7a4756944464ee731be31632bdf42a4cb4688cf"
   }
  }
 },
 "nbformat": 4,
 "nbformat_minor": 5
}
